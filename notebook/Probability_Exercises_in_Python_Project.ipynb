{
  "cells": [
    {
      "cell_type": "markdown",
      "id": "a41f3622",
      "metadata": {
        "id": "a41f3622"
      },
      "source": [
        "# Probability exercises"
      ]
    },
    {
      "cell_type": "markdown",
      "id": "a6bdbd89",
      "metadata": {
        "id": "a6bdbd89"
      },
      "source": [
        "### Exercise 1\n",
        "\n",
        "Two unbiased dice are thrown once and the total score is observed. Use a simulation to find the estimated probability that the total score is even or greater than 7\n",
        "\n",
        "We could use a mathematical equation to solve this or we can run the experiment many times, and then count the number of times where the score is even or greater than 7\n",
        "\n",
        "-Run the experiment 1000 times (roll 2 dice 1000 times, and sum the result)\n",
        "\n",
        "-Keep track of the number of times that the sum was either greater than 7 or an even number\n",
        "\n",
        "-Divide the number from step 2 by the number of iterations (1000)\n",
        "\n"
      ]
    },
    {
      "cell_type": "code",
      "execution_count": 1,
      "id": "8939d892",
      "metadata": {
        "colab": {
          "base_uri": "https://localhost:8080/"
        },
        "id": "8939d892",
        "outputId": "340fb3bd-a979-4f87-e356-c176bf53e585"
      },
      "outputs": [
        {
          "output_type": "stream",
          "name": "stdout",
          "text": [
            "The probability is:  68.5 %\n"
          ]
        }
      ],
      "source": [
        "#import libraries\n",
        "import numpy as np\n",
        "import random\n",
        "\n",
        "#Funtion to roll the dice.\n",
        "contador = 0 # el contador de los lanzamientos a cero\n",
        "jugadas = 1000 # el nº de lanzamientos que vamos a realizar\n",
        "\n",
        "for lanzamiento in range(jugadas): # por cada lanzamiento de los 1000 que hacemos\n",
        "    dado1 = np.random.randint(1,7) # el dado 1 mostrará un número aleatorio del 1 al 6\n",
        "    dado2 = np.random.randint(1,7) # el dado 2 mostrará un número aleatorio del 1 al 6\n",
        "    resultado = dado1 + dado2 # sumamos el resultado obtenido\n",
        "    if resultado > 7 or resultado % 2 == 0: # si el resultado es > 7 o divisible por 2\n",
        "        contador += 1 # se añade al contador\n",
        "#Para comparar si un número es par: x % 2 == 0 #Para comparar si un número es impar: x % 3 == 0\n",
        "print(\"The probability is: \", round((contador/jugadas)*100, 2),\"%\")\n"
      ]
    },
    {
      "cell_type": "code",
      "execution_count": 2,
      "id": "f093abfc",
      "metadata": {
        "colab": {
          "base_uri": "https://localhost:8080/"
        },
        "id": "f093abfc",
        "outputId": "68300403-38a5-4a7b-93bb-4e3f6d17f479"
      },
      "outputs": [
        {
          "output_type": "stream",
          "name": "stdout",
          "text": [
            "La probabilidad de que al lanzar 2 dados el resultado sea 7 o par es:  67.3 %\n"
          ]
        }
      ],
      "source": [
        "'''Two unbiased dice are thrown once and the total score is observed.\n",
        "Use a simulation to find the estimated probability that the total score is even or greater than 7\n",
        "    - Run the experiment 1000 times (roll 2 dice 1000 times, and sum the result)\n",
        "    - Keep track of the number of times that the sum was either greater than 7 or an even number\n",
        "    - Divide the number from step 2 by the number of iterations (1000)'''\n",
        "\n",
        "import numpy as np\n",
        "import random\n",
        "\n",
        "# Lanzamos los 2 dados 1000 veces\n",
        "contador = 0 # el nº de veces que obtenemos el resultado deseado, que al no haber iniciado el experimento es 0\n",
        "lanzamientos = 1000 # el nº de lanzamientos que habremos hecho al final\n",
        "\n",
        "# entonces vamos a lanzar cada dado 1000 veces\n",
        "# y sumar los resultados de cada dado\n",
        "for lanzamiento in range(lanzamientos):\n",
        "    dado1 = np.random.randint(1,7)\n",
        "    dado2 = np.random.randint(1,7)\n",
        "    resultado = dado1 + dado2\n",
        "    # si el resutado de la suma es mayor que 7 o un número par lo añadimos\n",
        "    if resultado > 7 or resultado % 2 == 0:\n",
        "        contador += 1 # se añade al contador\n",
        "\n",
        "print(\"La probabilidad de que al lanzar 2 dados el resultado sea 7 o par es: \", round((contador/lanzamientos)*100, 2),\"%\")\n",
        "\n",
        "\n",
        "\n"
      ]
    },
    {
      "cell_type": "markdown",
      "id": "55732bca",
      "metadata": {
        "id": "55732bca"
      },
      "source": [
        "### Exercise 2\n",
        "\n",
        "We are going to introduce 10 white balls, 20 reds and 30 greens in a box.\n",
        "\n",
        "Draw 5 balls with replacement and introduce them in another box.\n",
        "\n",
        "What is the probability that:\n",
        "\n",
        "a. 3 white or 2 red\n",
        "\n",
        "b. All 5 are the same color\n",
        "\n",
        "\n",
        "We will use the same system here. We will pick our balls during each round and count the number of times that:\n",
        "\n",
        "a. 3 white or 2 red\n",
        "\n",
        "b. All 5 are the same color."
      ]
    },
    {
      "cell_type": "code",
      "execution_count": 3,
      "id": "23244d20",
      "metadata": {
        "colab": {
          "base_uri": "https://localhost:8080/"
        },
        "id": "23244d20",
        "outputId": "b2c414a9-f84d-4a18-9940-558cd1eff411"
      },
      "outputs": [
        {
          "output_type": "stream",
          "name": "stdout",
          "text": [
            "{0: 'White', 1: 'White', 2: 'White', 3: 'White', 4: 'White', 5: 'White', 6: 'White', 7: 'White', 8: 'White', 9: 'White', 10: 'Red', 11: 'Red', 12: 'Red', 13: 'Red', 14: 'Red', 15: 'Red', 16: 'Red', 17: 'Red', 18: 'Red', 19: 'Red', 20: 'Red', 21: 'Red', 22: 'Red', 23: 'Red', 24: 'Red', 25: 'Red', 26: 'Red', 27: 'Red', 28: 'Red', 29: 'Red', 30: 'Green', 31: 'Green', 32: 'Green', 33: 'Green', 34: 'Green', 35: 'Green', 36: 'Green', 37: 'Green', 38: 'Green', 39: 'Green', 40: 'Green', 41: 'Green', 42: 'Green', 43: 'Green', 44: 'Green', 45: 'Green', 46: 'Green', 47: 'Green', 48: 'Green', 49: 'Green', 50: 'Green', 51: 'Green', 52: 'Green', 53: 'Green', 54: 'Green', 55: 'Green', 56: 'Green', 57: 'Green', 58: 'Green', 59: 'Green'}\n",
            "The probability of 3 white and 2 red is: 0.0 %\n",
            "The probability of all the same color is: 0.0 %\n"
          ]
        }
      ],
      "source": [
        "#import libraries\n",
        "\n",
        "# Tenemos una caja vacía\n",
        "d = {}\n",
        "\n",
        "# Metemos 10 bolas blancas, 30 bolas rojas y el resto verdes (hasta 60)\n",
        "for balls in range(60):\n",
        "    if balls < 10:\n",
        "        d[balls] = 'White'\n",
        "    elif balls > 9 and balls < 30:\n",
        "        d[balls] = 'Red'\n",
        "    else:\n",
        "        d[balls] = 'Green'\n",
        "\n",
        "# Vemos las 60 bolas que tenemos en nuestra caja\n",
        "print(d)\n",
        "# {0: 'White', 1: 'White', 2: 'White', 3: 'White', 4: 'White', 5: 'White', 6: 'White', 7: 'White', 8: 'White', 9: 'White', 10: 'Red', 11: 'Red', 12: 'Red', 13: 'Red', 14: 'Red', 15: 'Red', 16: 'Red', 17: 'Red', 18: 'Red', 19: 'Red', 20: 'Red', 21: 'Red', 22: 'Red', 23: 'Red', 24: 'Red', 25: 'Red', 26: 'Red', 27: 'Red', 28: 'Red', 29: 'Red', 30: 'Green', 31: 'Green', 32: 'Green', 33: 'Green', 34: 'Green', 35: 'Green', 36: 'Green', 37: 'Green', 38: 'Green', 39: 'Green', 40: 'Green', 41: 'Green', 42: 'Green', 43: 'Green', 44: 'Green', 45: 'Green', 46: 'Green', 47: 'Green', 48: 'Green', 49: 'Green', 50: 'Green', 51: 'Green', 52: 'Green', 53: 'Green', 54: 'Green', 55: 'Green', 56: 'Green', 57: 'Green', 58: 'Green', 59: 'Green'}\n",
        "\n",
        "\n",
        "#Initialize important variables\n",
        "simulaciones = 100 # el número de veces que vamos a realizar la prueba (sacar las 5 bolas de la caja)\n",
        "probabilidad_de_a = 0 # el contador de probabilidad del experimento a, que está a 0 porque no se ha realizado todavía\n",
        "probabilidad_de_b = 0# el contador de probabilidad del experimento b, que está a 0 porque no se ha realizado todavía\n",
        "\n",
        "# Por cada bola que sacamos de las 60 que tenemos en la caja\n",
        "for bola_sacada in range(simulaciones):\n",
        "    list = [] # la vamos a ir metiendo en una nueva caja\n",
        "\n",
        "    for i in range(simulaciones): #\n",
        "        # sacada1 = np.random.randint(0, 60)\n",
        "        list.append(d[random.randint(0,59)])\n",
        "    #Convert it to a numpy array\n",
        "    array = np.asarray(list)\n",
        "\n",
        "    #find the number of each taht we picked\n",
        "    white = sum(array == 'White')\n",
        "    red = sum(array == 'Red')\n",
        "    green = sum(array == 'Green')\n",
        "\n",
        "    #Keep track if the combination met the criteria\n",
        "    if white == 3 and red == 2:\n",
        "        part_a_total += 1\n",
        "\n",
        "    if red == 5 or white == 5 or green ==5:\n",
        "        part_b_total +=1\n",
        "\n",
        "#print 'the probability of 3 white and 2 red is' in percentage\n",
        "print('The probability of 3 white and 2 red is:', round(probabilidad_de_a/simulaciones*100,2),'%')\n",
        "\n",
        "#print 'the probability of all the same color is' in percentage\n",
        "print('The probability of all the same color is:', round(probabilidad_de_b/simulaciones*100,2),'%')\n"
      ]
    }
  ],
  "metadata": {
    "interpreter": {
      "hash": "9248718ffe6ce6938b217e69dbcc175ea21f4c6b28a317e96c05334edae734bb"
    },
    "kernelspec": {
      "display_name": "Python 3.9.12 ('ML-BOOTCAMP')",
      "language": "python",
      "name": "python3"
    },
    "language_info": {
      "codemirror_mode": {
        "name": "ipython",
        "version": 3
      },
      "file_extension": ".py",
      "mimetype": "text/x-python",
      "name": "python",
      "nbconvert_exporter": "python",
      "pygments_lexer": "ipython3",
      "version": "3.11.3"
    },
    "colab": {
      "provenance": []
    }
  },
  "nbformat": 4,
  "nbformat_minor": 5
}